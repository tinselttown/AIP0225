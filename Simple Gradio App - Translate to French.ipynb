{
 "cells": [
  {
   "cell_type": "markdown",
   "id": "8ceb227e-926c-4e7d-9433-371cf8b1c32a",
   "metadata": {},
   "source": [
    "# Setup the model hosted by Triton+vLLM"
   ]
  },
  {
   "cell_type": "code",
   "execution_count": 7,
   "id": "746d349f-e8a8-4a17-8b8d-3f9425773a99",
   "metadata": {},
   "outputs": [],
   "source": [
    "from transformers import AutoTokenizer\n",
    "import requests\n",
    "import json\n",
    "import re\n",
    "import gradio as gr\n",
    "\n",
    "# Define the Model name\n",
    "model_id = \"deepseek-ai/DeepSeek-R1-Distill-Qwen-1.5B\"\n",
    "\n",
    "# Initialize the tokenizer\n",
    "tokenizer = AutoTokenizer.from_pretrained(model_id)\n",
    "\n",
    "# Set the URL and the data for the POST request\n",
    "url = \"http://localhost:8000/v2/models/vllm_model/generate\"\n",
    "\n",
    "# Set the headers for the request\n",
    "headers = {\n",
    "    \"Content-Type\": \"application/json\"\n",
    "}"
   ]
  },
  {
   "cell_type": "markdown",
   "id": "101a8c11-4663-4bc6-a75d-64ba2ca8ac66",
   "metadata": {},
   "source": [
    "# Define functions"
   ]
  },
  {
   "cell_type": "code",
   "execution_count": 9,
   "id": "b3b977b6-12e0-444b-8454-ae0dbd417b94",
   "metadata": {},
   "outputs": [],
   "source": [
    "def preprocess_input(input_text):\n",
    "    # Prepare your prompt\n",
    "    prompt = input_text\n",
    "    messages = [\n",
    "        {\"role\": \"system\", \"content\": \"You are an expert translator who translates text from english to french and only return translated text.\"},\n",
    "        {\"role\": \"user\", \"content\": prompt},\n",
    "    ]\n",
    "    \n",
    "    # Apply the message template\n",
    "    tokenized_input = tokenizer.apply_chat_template(messages, tokenize=False)\n",
    "    data = {\n",
    "    \"text_input\": tokenized_input,\n",
    "    \"parameters\": {\"stream\": False, \"max_tokens\": 512, \"temperature\": 0.3, \"top_p\": 0.8, \"repetition_penalty\": 1.05, \"top_k\": 40}\n",
    "    }\n",
    "    return data\n",
    "\n",
    "def send_infer(data):\n",
    "    # Send the POST request\n",
    "    return requests.post(url, headers=headers, data=json.dumps(data))\n",
    "\n",
    "def postprocess_output(response):\n",
    "    # Extract the text output\n",
    "    text_output = response.json()['text_output']\n",
    "    \n",
    "    # Use regex to find everything after the \"</think>\" marker\n",
    "    match = re.search(r\"</think>\\s*(.*)\", text_output, re.DOTALL)\n",
    "    final_answer = match.group(1).strip() if match else text_output.strip()\n",
    "    return final_answer"
   ]
  },
  {
   "cell_type": "markdown",
   "id": "fc1b1010-9be6-47cf-811a-d9f0d8028f97",
   "metadata": {},
   "source": [
    "# Setup Gradio App"
   ]
  },
  {
   "cell_type": "code",
   "execution_count": 13,
   "id": "24bc7bf9-d5b7-49b9-b8b3-5ac4406bd374",
   "metadata": {},
   "outputs": [
    {
     "name": "stdout",
     "output_type": "stream",
     "text": [
      "* Running on local URL:  http://127.0.0.1:7862\n",
      "\n",
      "To create a public link, set `share=True` in `launch()`.\n"
     ]
    },
    {
     "data": {
      "text/html": [
       "<div><iframe src=\"http://127.0.0.1:7862/\" width=\"100%\" height=\"500\" allow=\"autoplay; camera; microphone; clipboard-read; clipboard-write;\" frameborder=\"0\" allowfullscreen></iframe></div>"
      ],
      "text/plain": [
       "<IPython.core.display.HTML object>"
      ]
     },
     "metadata": {},
     "output_type": "display_data"
    },
    {
     "data": {
      "text/plain": []
     },
     "execution_count": 13,
     "metadata": {},
     "output_type": "execute_result"
    }
   ],
   "source": [
    "def translate(text):\n",
    "    data = preprocess_input(text)\n",
    "    response = send_infer(data)\n",
    "    return postprocess_output(response)\n",
    "\n",
    "demo = gr.Interface(\n",
    "    fn=translate,\n",
    "    inputs=gr.Textbox(label=\"original\"),\n",
    "    outputs=gr.Textbox(label=\"translated\"),\n",
    "    title=\"A funky English to French Translator\",\n",
    "    description=\"Enter text in the 'original' box to see its 'translated' version.\"\n",
    ")\n",
    "\n",
    "demo.launch()"
   ]
  },
  {
   "cell_type": "code",
   "execution_count": null,
   "id": "f0dbff68-6c99-4f30-84b8-16f363f5714e",
   "metadata": {},
   "outputs": [],
   "source": []
  }
 ],
 "metadata": {
  "kernelspec": {
   "display_name": "Python [conda env:base] *",
   "language": "python",
   "name": "conda-base-py"
  },
  "language_info": {
   "codemirror_mode": {
    "name": "ipython",
    "version": 3
   },
   "file_extension": ".py",
   "mimetype": "text/x-python",
   "name": "python",
   "nbconvert_exporter": "python",
   "pygments_lexer": "ipython3",
   "version": "3.12.7"
  }
 },
 "nbformat": 4,
 "nbformat_minor": 5
}
